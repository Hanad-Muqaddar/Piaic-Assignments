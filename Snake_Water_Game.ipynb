{
 "cells": [
  {
   "cell_type": "code",
   "execution_count": 6,
   "metadata": {},
   "outputs": [
    {
     "name": "stdout",
     "output_type": "stream",
     "text": [
      "          ''''     Snake Water Game       ''''           \n",
      "Please choose W for water G for gun and S for snake  \n",
      "Enter your weapon you want to select:  G\n",
      "          ''''     Snake Water Game       ''''           \n",
      "Please choose W for water G for gun and S for snake  \n",
      "Enter your weapon you want to select:  W\n",
      "W\n",
      "Water\n",
      "You choose water and computer also select water. Drawn\n",
      "          ''''     Snake Water Game       ''''           \n",
      "Please choose W for water G for gun and S for snake  \n",
      "Enter your weapon you want to select:  G\n",
      "G\n",
      "Water\n",
      "You choose Gun and computer select water. You can fire. You win\n",
      "          ''''     Snake Water Game       ''''           \n",
      "Please choose W for water G for gun and S for snake  \n",
      "Enter your weapon you want to select:  S\n",
      "          ''''     Snake Water Game       ''''           \n",
      "Please choose W for water G for gun and S for snake  \n",
      "Enter your weapon you want to select:  S\n",
      "S\n",
      "Water\n",
      "You choose snake and computer select water: You win \n"
     ]
    }
   ],
   "source": [
    "import random\n",
    "lst = [\"Snake\", \"Water\", \"Gun\"]\n",
    "a = 0\n",
    "while a < 5:\n",
    "    choice = random.choice(lst)\n",
    "    print(\"          ''''     Snake Water Game       ''''           \")\n",
    "    print(\"Please choose W for water G for gun and S for snake  \")\n",
    "    i = input(\"Enter your weapon you want to select:  \")\n",
    "    if i == \"W\" and choice == \"Water\":\n",
    "        print(i)\n",
    "        print(choice)\n",
    "        print(\"You choose water and computer also select water. Drawn\")\n",
    "    elif i == \"W\" and choice == \"snake\":\n",
    "        print(i)\n",
    "        print(choice)\n",
    "        print(\"Snake is drinking water and you loose. Hehehe\")\n",
    "    elif i == \"W\" and choice == \"gun\":\n",
    "        print(i)\n",
    "        print(choice)\n",
    "        print(\"Your input is water and the computer is gun. You win\")\n",
    "        \n",
    "    if i == \"G\" and choice == \"Water\":\n",
    "        print(i)\n",
    "        print(choice)\n",
    "        print(\"You choose Gun and computer select water. You can fire. You win\")\n",
    "    elif i == \"G\" and choice == \"snake\":\n",
    "        print(i)\n",
    "        print(choice)\n",
    "        print(\"Your choice is Gun and computer is snake ... Snake can bite you. You loose\")\n",
    "    elif i == \"G\" and choice == \"gun\":\n",
    "        print(i)\n",
    "        print(choice)\n",
    "        print(\"Your input is gun and the computer is gun. Drawn\")\n",
    "        \n",
    "        \n",
    "    if i == \"S\" and choice == \"Water\":\n",
    "        print(i)\n",
    "        print(choice)\n",
    "        print(\"You choose snake and computer select water: You win \")\n",
    "    elif i == \"S\" and choice == \"snake\":\n",
    "        print(i)\n",
    "        print(choice)\n",
    "        print(\"You and computer both select the snake. Drawn\")\n",
    "    elif i == \"S\" and choice == \"gun\":\n",
    "        print(i)\n",
    "        print(choice)\n",
    "        print(\"Your input is snake and the computer is gun. You loose\")\n",
    "    a += 1"
   ]
  },
  {
   "cell_type": "code",
   "execution_count": 8,
   "metadata": {},
   "outputs": [
    {
     "name": "stdout",
     "output_type": "stream",
     "text": [
      "Equal\n"
     ]
    }
   ],
   "source": [
    "a = 5\n",
    "b = 5\n",
    "if a == b:\n",
    "    print(\"Equal\")\n",
    "else: \n",
    "    print(\"Not Equal\")"
   ]
  },
  {
   "cell_type": "code",
   "execution_count": null,
   "metadata": {},
   "outputs": [],
   "source": []
  }
 ],
 "metadata": {
  "kernelspec": {
   "display_name": "Python 3",
   "language": "python",
   "name": "python3"
  },
  "language_info": {
   "codemirror_mode": {
    "name": "ipython",
    "version": 3
   },
   "file_extension": ".py",
   "mimetype": "text/x-python",
   "name": "python",
   "nbconvert_exporter": "python",
   "pygments_lexer": "ipython3",
   "version": "3.7.4"
  }
 },
 "nbformat": 4,
 "nbformat_minor": 2
}
