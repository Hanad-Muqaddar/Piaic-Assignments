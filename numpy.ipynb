{
 "cells": [
  {
   "cell_type": "code",
   "execution_count": 1,
   "metadata": {},
   "outputs": [],
   "source": [
    "l = range(1000)"
   ]
  },
  {
   "cell_type": "code",
   "execution_count": 2,
   "metadata": {},
   "outputs": [],
   "source": [
    "import numpy as np"
   ]
  },
  {
   "cell_type": "code",
   "execution_count": 3,
   "metadata": {},
   "outputs": [],
   "source": [
    "d = np.arange(1000)"
   ]
  },
  {
   "cell_type": "code",
   "execution_count": 4,
   "metadata": {},
   "outputs": [
    {
     "name": "stdout",
     "output_type": "stream",
     "text": [
      "Wall time: 114 ms\n"
     ]
    }
   ],
   "source": [
    "%time for i in range(1,1000): r = [x*2 for x in l]"
   ]
  },
  {
   "cell_type": "code",
   "execution_count": 5,
   "metadata": {},
   "outputs": [
    {
     "name": "stdout",
     "output_type": "stream",
     "text": [
      "Wall time: 8.99 ms\n"
     ]
    }
   ],
   "source": [
    "%time for i in range(1,1000): r = d*2"
   ]
  },
  {
   "cell_type": "code",
   "execution_count": 6,
   "metadata": {},
   "outputs": [],
   "source": [
    "x = np.zeros((4,4))"
   ]
  },
  {
   "cell_type": "code",
   "execution_count": 7,
   "metadata": {},
   "outputs": [
    {
     "data": {
      "text/plain": [
       "array([[0., 0., 0., 0.],\n",
       "       [0., 0., 0., 0.],\n",
       "       [0., 0., 0., 0.],\n",
       "       [0., 0., 0., 0.]])"
      ]
     },
     "execution_count": 7,
     "metadata": {},
     "output_type": "execute_result"
    }
   ],
   "source": [
    "x"
   ]
  },
  {
   "cell_type": "code",
   "execution_count": 8,
   "metadata": {},
   "outputs": [],
   "source": [
    "y = np.ones((5,5))"
   ]
  },
  {
   "cell_type": "code",
   "execution_count": 9,
   "metadata": {},
   "outputs": [
    {
     "data": {
      "text/plain": [
       "array([[1., 1., 1., 1., 1.],\n",
       "       [1., 1., 1., 1., 1.],\n",
       "       [1., 1., 1., 1., 1.],\n",
       "       [1., 1., 1., 1., 1.],\n",
       "       [1., 1., 1., 1., 1.]])"
      ]
     },
     "execution_count": 9,
     "metadata": {},
     "output_type": "execute_result"
    }
   ],
   "source": [
    "y"
   ]
  },
  {
   "cell_type": "code",
   "execution_count": 10,
   "metadata": {},
   "outputs": [],
   "source": [
    "z = np.empty((7,7))"
   ]
  },
  {
   "cell_type": "code",
   "execution_count": 11,
   "metadata": {},
   "outputs": [
    {
     "data": {
      "text/plain": [
       "array([[4.82336277e+228, 4.72098782e+164, 8.88054509e+252,\n",
       "        3.17109511e+180, 7.34514289e+223, 1.27734658e-152,\n",
       "        1.12038871e+219],\n",
       "       [6.25151164e-085, 1.42731838e+228, 6.01346954e-154,\n",
       "        5.98149672e-154, 2.58634340e+161, 3.59075320e+185,\n",
       "        4.76660077e+180],\n",
       "       [7.26606611e+223, 7.87265961e+276, 8.41476458e+276,\n",
       "        1.39759530e-152, 9.08367206e+223, 2.45068391e+198,\n",
       "        1.46914166e+195],\n",
       "       [7.36101917e+223, 1.41975521e-022, 3.42972241e+161,\n",
       "        2.35053988e+180, 1.27966001e-152, 1.18032841e+243,\n",
       "        5.03028269e+180],\n",
       "       [1.04828564e+228, 6.79316720e+247, 3.86599061e+233,\n",
       "        9.00114496e+223, 1.28515403e+248, 9.15026598e+199,\n",
       "        1.27967852e-152],\n",
       "       [3.94655105e+180, 7.08519663e+194, 6.01346954e-154,\n",
       "        3.68019409e+180, 2.93471106e-115, 1.33295183e+179,\n",
       "        2.04723948e+190],\n",
       "       [2.66064963e-260, 7.70858946e+218, 6.01334668e-154,\n",
       "        4.47593816e-091, 7.01413727e-009, 1.67433455e+243,\n",
       "        4.00247480e+151]])"
      ]
     },
     "execution_count": 11,
     "metadata": {},
     "output_type": "execute_result"
    }
   ],
   "source": [
    "z"
   ]
  },
  {
   "cell_type": "code",
   "execution_count": 12,
   "metadata": {},
   "outputs": [],
   "source": [
    "list = [1,5,9,8,7,2,6,3,4,8,5,2,3,6,9]"
   ]
  },
  {
   "cell_type": "code",
   "execution_count": 13,
   "metadata": {},
   "outputs": [
    {
     "data": {
      "text/plain": [
       "array([1, 5, 9, 8, 7, 2, 6, 3, 4, 8, 5, 2, 3, 6, 9])"
      ]
     },
     "execution_count": 13,
     "metadata": {},
     "output_type": "execute_result"
    }
   ],
   "source": [
    "np.array(list)"
   ]
  },
  {
   "cell_type": "code",
   "execution_count": 14,
   "metadata": {},
   "outputs": [],
   "source": [
    "ac = np.empty((10,10))"
   ]
  },
  {
   "cell_type": "code",
   "execution_count": 15,
   "metadata": {},
   "outputs": [
    {
     "data": {
      "text/plain": [
       "(10, 10)"
      ]
     },
     "execution_count": 15,
     "metadata": {},
     "output_type": "execute_result"
    }
   ],
   "source": [
    "ac.shape"
   ]
  },
  {
   "cell_type": "code",
   "execution_count": 16,
   "metadata": {},
   "outputs": [],
   "source": [
    "reshap = ac.reshape((5,5,4))"
   ]
  },
  {
   "cell_type": "code",
   "execution_count": 17,
   "metadata": {},
   "outputs": [
    {
     "data": {
      "text/plain": [
       "array([[[6.92211825e-312, 0.00000000e+000, 1.69759663e-313,\n",
       "         4.94065646e-324],\n",
       "        [6.92211830e-312, 5.92878775e-323, 6.92195997e-312,\n",
       "         1.90979621e-313],\n",
       "        [2.85250929e+256, 0.00000000e+000, 9.70158285e+189,\n",
       "         0.00000000e+000],\n",
       "        [2.12199579e-313, 4.00086397e+252, 6.92211830e-312,\n",
       "         5.75387430e+228],\n",
       "        [6.92195997e-312, 2.33419537e-313, 8.66638020e-307,\n",
       "         0.00000000e+000]],\n",
       "\n",
       "       [[1.50690022e-321, 0.00000000e+000, 2.54639495e-313,\n",
       "         4.94065646e-324],\n",
       "        [6.92211831e-312, 5.92878775e-323, 6.92195996e-312,\n",
       "         2.75859453e-313],\n",
       "        [0.00000000e+000, 0.00000000e+000, 1.50690022e-321,\n",
       "         0.00000000e+000],\n",
       "        [2.97079411e-313, 4.94065646e-324, 6.92211831e-312,\n",
       "         5.92878775e-323],\n",
       "        [6.92195997e-312, 3.18299369e-313, 0.00000000e+000,\n",
       "         0.00000000e+000]],\n",
       "\n",
       "       [[1.50690022e-321, 0.00000000e+000, 3.39519327e-313,\n",
       "         4.94065646e-324],\n",
       "        [6.92211821e-312, 5.92878775e-323, 6.92195997e-312,\n",
       "         3.60739284e-313],\n",
       "        [0.00000000e+000, 0.00000000e+000, 1.50690022e-321,\n",
       "         0.00000000e+000],\n",
       "        [3.81959242e-313, 4.94065646e-324, 6.92211822e-312,\n",
       "         5.92878775e-323],\n",
       "        [6.92195998e-312, 4.03179200e-313, 0.00000000e+000,\n",
       "         0.00000000e+000]],\n",
       "\n",
       "       [[6.92165361e-312, 0.00000000e+000, 4.24399158e-313,\n",
       "         6.91770628e-312],\n",
       "        [6.92211822e-312, 6.92165361e-312, 6.92195997e-312,\n",
       "         4.45619116e-313],\n",
       "        [6.91770628e-312, 0.00000000e+000, 6.92165361e-312,\n",
       "         0.00000000e+000],\n",
       "        [4.66839074e-313, 6.91770628e-312, 6.92211822e-312,\n",
       "         6.92165361e-312],\n",
       "        [6.92195998e-312, 4.88059032e-313, 6.91770628e-312,\n",
       "         0.00000000e+000]],\n",
       "\n",
       "       [[1.45305765e-296, 0.00000000e+000, 5.09278990e-313,\n",
       "         1.14490426e+243],\n",
       "        [6.92211823e-312, 8.80090508e+199, 6.92195998e-312,\n",
       "         5.30498948e-313],\n",
       "        [6.01334412e-154, 0.00000000e+000, 2.59345433e+161,\n",
       "         0.00000000e+000],\n",
       "        [5.51718906e-313, 1.90327776e+185, 6.92211823e-312,\n",
       "         1.13525581e+243],\n",
       "        [6.92195998e-312, 5.72938864e-313, 4.24356714e+175,\n",
       "         0.00000000e+000]]])"
      ]
     },
     "execution_count": 17,
     "metadata": {},
     "output_type": "execute_result"
    }
   ],
   "source": [
    "reshap"
   ]
  },
  {
   "cell_type": "code",
   "execution_count": 18,
   "metadata": {},
   "outputs": [],
   "source": [
    "resh= ac.reshape((2,2,5,5))"
   ]
  },
  {
   "cell_type": "code",
   "execution_count": 19,
   "metadata": {},
   "outputs": [
    {
     "data": {
      "text/plain": [
       "array([[[[6.92211825e-312, 0.00000000e+000, 1.69759663e-313,\n",
       "          4.94065646e-324, 6.92211830e-312],\n",
       "         [5.92878775e-323, 6.92195997e-312, 1.90979621e-313,\n",
       "          2.85250929e+256, 0.00000000e+000],\n",
       "         [9.70158285e+189, 0.00000000e+000, 2.12199579e-313,\n",
       "          4.00086397e+252, 6.92211830e-312],\n",
       "         [5.75387430e+228, 6.92195997e-312, 2.33419537e-313,\n",
       "          8.66638020e-307, 0.00000000e+000],\n",
       "         [1.50690022e-321, 0.00000000e+000, 2.54639495e-313,\n",
       "          4.94065646e-324, 6.92211831e-312]],\n",
       "\n",
       "        [[5.92878775e-323, 6.92195996e-312, 2.75859453e-313,\n",
       "          0.00000000e+000, 0.00000000e+000],\n",
       "         [1.50690022e-321, 0.00000000e+000, 2.97079411e-313,\n",
       "          4.94065646e-324, 6.92211831e-312],\n",
       "         [5.92878775e-323, 6.92195997e-312, 3.18299369e-313,\n",
       "          0.00000000e+000, 0.00000000e+000],\n",
       "         [1.50690022e-321, 0.00000000e+000, 3.39519327e-313,\n",
       "          4.94065646e-324, 6.92211821e-312],\n",
       "         [5.92878775e-323, 6.92195997e-312, 3.60739284e-313,\n",
       "          0.00000000e+000, 0.00000000e+000]]],\n",
       "\n",
       "\n",
       "       [[[1.50690022e-321, 0.00000000e+000, 3.81959242e-313,\n",
       "          4.94065646e-324, 6.92211822e-312],\n",
       "         [5.92878775e-323, 6.92195998e-312, 4.03179200e-313,\n",
       "          0.00000000e+000, 0.00000000e+000],\n",
       "         [6.92165361e-312, 0.00000000e+000, 4.24399158e-313,\n",
       "          6.91770628e-312, 6.92211822e-312],\n",
       "         [6.92165361e-312, 6.92195997e-312, 4.45619116e-313,\n",
       "          6.91770628e-312, 0.00000000e+000],\n",
       "         [6.92165361e-312, 0.00000000e+000, 4.66839074e-313,\n",
       "          6.91770628e-312, 6.92211822e-312]],\n",
       "\n",
       "        [[6.92165361e-312, 6.92195998e-312, 4.88059032e-313,\n",
       "          6.91770628e-312, 0.00000000e+000],\n",
       "         [1.45305765e-296, 0.00000000e+000, 5.09278990e-313,\n",
       "          1.14490426e+243, 6.92211823e-312],\n",
       "         [8.80090508e+199, 6.92195998e-312, 5.30498948e-313,\n",
       "          6.01334412e-154, 0.00000000e+000],\n",
       "         [2.59345433e+161, 0.00000000e+000, 5.51718906e-313,\n",
       "          1.90327776e+185, 6.92211823e-312],\n",
       "         [1.13525581e+243, 6.92195998e-312, 5.72938864e-313,\n",
       "          4.24356714e+175, 0.00000000e+000]]]])"
      ]
     },
     "execution_count": 19,
     "metadata": {},
     "output_type": "execute_result"
    }
   ],
   "source": [
    "resh"
   ]
  },
  {
   "cell_type": "code",
   "execution_count": 20,
   "metadata": {},
   "outputs": [
    {
     "data": {
      "text/plain": [
       "4"
      ]
     },
     "execution_count": 20,
     "metadata": {},
     "output_type": "execute_result"
    }
   ],
   "source": [
    "resh.ndim"
   ]
  },
  {
   "cell_type": "code",
   "execution_count": 21,
   "metadata": {},
   "outputs": [
    {
     "data": {
      "text/plain": [
       "3"
      ]
     },
     "execution_count": 21,
     "metadata": {},
     "output_type": "execute_result"
    }
   ],
   "source": [
    "reshap.ndim"
   ]
  },
  {
   "cell_type": "code",
   "execution_count": 27,
   "metadata": {},
   "outputs": [],
   "source": [
    "a = np.random.randn(10)"
   ]
  },
  {
   "cell_type": "code",
   "execution_count": 29,
   "metadata": {},
   "outputs": [],
   "source": [
    "b = np.random.randn(10)"
   ]
  },
  {
   "cell_type": "code",
   "execution_count": 30,
   "metadata": {},
   "outputs": [
    {
     "data": {
      "text/plain": [
       "array([ 0.62767898, -0.35575834, -1.93890483,  0.58675126,  0.64540541,\n",
       "        0.91908133,  2.39162559,  0.02272884,  0.23779281,  2.21357062])"
      ]
     },
     "execution_count": 30,
     "metadata": {},
     "output_type": "execute_result"
    }
   ],
   "source": [
    "a"
   ]
  },
  {
   "cell_type": "code",
   "execution_count": 31,
   "metadata": {},
   "outputs": [
    {
     "data": {
      "text/plain": [
       "array([-0.83262982,  0.53187688, -0.43486853, -0.21957827,  0.03682814,\n",
       "        0.37636389,  0.9970563 ,  0.18168829,  0.47950474,  0.05756935])"
      ]
     },
     "execution_count": 31,
     "metadata": {},
     "output_type": "execute_result"
    }
   ],
   "source": [
    "b"
   ]
  },
  {
   "cell_type": "code",
   "execution_count": 32,
   "metadata": {},
   "outputs": [
    {
     "data": {
      "text/plain": [
       "array([-0.20495084,  0.17611854, -2.37377336,  0.36717299,  0.68223356,\n",
       "        1.29544522,  3.38868189,  0.20441713,  0.71729754,  2.27113997])"
      ]
     },
     "execution_count": 32,
     "metadata": {},
     "output_type": "execute_result"
    }
   ],
   "source": [
    "a+b"
   ]
  },
  {
   "cell_type": "code",
   "execution_count": 33,
   "metadata": {},
   "outputs": [
    {
     "data": {
      "text/plain": [
       "array([ 1.4603088 , -0.88763522, -1.5040363 ,  0.80632953,  0.60857727,\n",
       "        0.54271744,  1.39456929, -0.15895945, -0.24171193,  2.15600128])"
      ]
     },
     "execution_count": 33,
     "metadata": {},
     "output_type": "execute_result"
    }
   ],
   "source": [
    "a-b"
   ]
  },
  {
   "cell_type": "code",
   "execution_count": 34,
   "metadata": {},
   "outputs": [
    {
     "data": {
      "text/plain": [
       "array([ 0.31383949, -0.17787917, -0.96945242,  0.29337563,  0.32270271,\n",
       "        0.45954067,  1.19581279,  0.01136442,  0.1188964 ,  1.10678531])"
      ]
     },
     "execution_count": 34,
     "metadata": {},
     "output_type": "execute_result"
    }
   ],
   "source": [
    "a/2"
   ]
  },
  {
   "cell_type": "code",
   "execution_count": 35,
   "metadata": {},
   "outputs": [
    {
     "data": {
      "text/plain": [
       "array([  4.39375285,  -2.49030841, -13.57233381,   4.10725882,\n",
       "         4.51783789,   6.43356933,  16.74137913,   0.15910189,\n",
       "         1.66454964,  15.49499436])"
      ]
     },
     "execution_count": 35,
     "metadata": {},
     "output_type": "execute_result"
    }
   ],
   "source": [
    "a*7"
   ]
  },
  {
   "cell_type": "code",
   "execution_count": 37,
   "metadata": {},
   "outputs": [
    {
     "data": {
      "text/plain": [
       "array([0.62767898, 0.58675126, 0.64540541, 0.91908133, 2.39162559,\n",
       "       2.21357062])"
      ]
     },
     "execution_count": 37,
     "metadata": {},
     "output_type": "execute_result"
    }
   ],
   "source": [
    "a[a>b]"
   ]
  },
  {
   "cell_type": "code",
   "execution_count": 38,
   "metadata": {},
   "outputs": [
    {
     "data": {
      "text/plain": [
       "array([-0.35575834, -1.93890483,  0.02272884,  0.23779281])"
      ]
     },
     "execution_count": 38,
     "metadata": {},
     "output_type": "execute_result"
    }
   ],
   "source": [
    "a[a<b]"
   ]
  },
  {
   "cell_type": "code",
   "execution_count": 39,
   "metadata": {},
   "outputs": [
    {
     "data": {
      "text/plain": [
       "array([ True, False, False,  True,  True,  True,  True,  True,  True,\n",
       "        True])"
      ]
     },
     "execution_count": 39,
     "metadata": {},
     "output_type": "execute_result"
    }
   ],
   "source": [
    "a>0"
   ]
  },
  {
   "cell_type": "markdown",
   "metadata": {},
   "source": [
    "## Indexing"
   ]
  },
  {
   "cell_type": "code",
   "execution_count": 40,
   "metadata": {},
   "outputs": [
    {
     "data": {
      "text/plain": [
       "0.6276789783365245"
      ]
     },
     "execution_count": 40,
     "metadata": {},
     "output_type": "execute_result"
    }
   ],
   "source": [
    "a[0]"
   ]
  },
  {
   "cell_type": "code",
   "execution_count": 42,
   "metadata": {},
   "outputs": [
    {
     "data": {
      "text/plain": [
       "array([ 0.62767898, -0.35575834, -1.93890483,  0.58675126,  0.64540541])"
      ]
     },
     "execution_count": 42,
     "metadata": {},
     "output_type": "execute_result"
    }
   ],
   "source": [
    "a[0:5]"
   ]
  },
  {
   "cell_type": "markdown",
   "metadata": {},
   "source": [
    "### Fancy Indexing"
   ]
  },
  {
   "cell_type": "code",
   "execution_count": 43,
   "metadata": {},
   "outputs": [
    {
     "data": {
      "text/plain": [
       "array([-1.93890483,  2.39162559])"
      ]
     },
     "execution_count": 43,
     "metadata": {},
     "output_type": "execute_result"
    }
   ],
   "source": [
    "a[[2,6]]"
   ]
  },
  {
   "cell_type": "code",
   "execution_count": 44,
   "metadata": {},
   "outputs": [
    {
     "data": {
      "text/plain": [
       "array([-0.43486853,  0.9970563 ,  0.05756935,  0.03682814,  0.37636389])"
      ]
     },
     "execution_count": 44,
     "metadata": {},
     "output_type": "execute_result"
    }
   ],
   "source": [
    "b[[2,6,9,4,5]]"
   ]
  },
  {
   "cell_type": "code",
   "execution_count": 45,
   "metadata": {},
   "outputs": [
    {
     "data": {
      "text/plain": [
       "array([0.37636389, 0.9970563 , 0.18168829])"
      ]
     },
     "execution_count": 45,
     "metadata": {},
     "output_type": "execute_result"
    }
   ],
   "source": [
    "b[5:8]"
   ]
  },
  {
   "cell_type": "code",
   "execution_count": 47,
   "metadata": {},
   "outputs": [],
   "source": [
    "x = np.random.randn(10,10)"
   ]
  },
  {
   "cell_type": "code",
   "execution_count": 48,
   "metadata": {},
   "outputs": [
    {
     "data": {
      "text/plain": [
       "2"
      ]
     },
     "execution_count": 48,
     "metadata": {},
     "output_type": "execute_result"
    }
   ],
   "source": [
    "x.ndim"
   ]
  },
  {
   "cell_type": "code",
   "execution_count": 49,
   "metadata": {},
   "outputs": [
    {
     "data": {
      "text/plain": [
       "100"
      ]
     },
     "execution_count": 49,
     "metadata": {},
     "output_type": "execute_result"
    }
   ],
   "source": [
    "x.size"
   ]
  },
  {
   "cell_type": "code",
   "execution_count": 50,
   "metadata": {},
   "outputs": [
    {
     "data": {
      "text/plain": [
       "array([[ 0.36305858, -0.71807689,  0.08645407,  1.3970436 ,  0.31639186,\n",
       "        -1.09776674,  1.42068682, -0.38637266,  0.28427365,  0.55261694],\n",
       "       [-0.06880073,  0.31107453, -0.98373876, -1.13997054, -0.47620082,\n",
       "        -1.15762074, -0.7357643 ,  0.01487895, -0.38581149,  0.24498854],\n",
       "       [ 0.07494107, -0.13495276, -0.35336919,  0.19250546,  0.07911764,\n",
       "         1.98981749,  3.02034747, -0.4976795 , -1.4848378 , -0.11351214],\n",
       "       [ 0.39040559,  0.12241616,  1.37913576,  0.71339915, -0.07676098,\n",
       "         1.47903548, -0.43930472, -2.44503028, -1.44777591,  0.86677172],\n",
       "       [ 0.83831605,  1.47566931, -0.07697329,  0.34801559,  0.20887906,\n",
       "         0.31788234,  0.14846482, -1.47600525,  1.48291308,  0.02894842],\n",
       "       [-0.05785078, -0.37672279,  0.47165879, -1.39770371, -1.8109739 ,\n",
       "        -0.10813866,  0.1395554 , -0.56430901,  1.25746325,  0.3510689 ],\n",
       "       [ 0.72984398, -0.02621524,  0.59705502,  1.17219933, -0.06247257,\n",
       "        -0.77636709,  0.27127019, -1.08400168,  0.02061932,  1.479524  ],\n",
       "       [ 0.1145154 ,  0.04020949,  0.96955464,  0.71444959, -1.87469764,\n",
       "        -0.81923931,  0.28189333, -0.72863762, -0.89291939, -0.29802346],\n",
       "       [ 0.26499481,  0.81256651,  1.49365953, -0.79411604, -0.45587677,\n",
       "        -0.80984708, -0.36443939, -0.70441619,  1.23347739, -0.08080749],\n",
       "       [-0.7529205 , -1.93191788,  0.33984622,  1.9080464 , -0.29750097,\n",
       "        -0.99978862,  0.82628479, -0.01288603,  0.15928739, -0.0674576 ]])"
      ]
     },
     "execution_count": 50,
     "metadata": {},
     "output_type": "execute_result"
    }
   ],
   "source": [
    "x"
   ]
  },
  {
   "cell_type": "code",
   "execution_count": 52,
   "metadata": {},
   "outputs": [
    {
     "data": {
      "text/plain": [
       "-1.0977667437729635"
      ]
     },
     "execution_count": 52,
     "metadata": {},
     "output_type": "execute_result"
    }
   ],
   "source": [
    "x[0][5]"
   ]
  },
  {
   "cell_type": "code",
   "execution_count": 55,
   "metadata": {},
   "outputs": [
    {
     "data": {
      "text/plain": [
       "array([-1.09776674, -1.15762074,  1.98981749,  1.47903548,  0.31788234])"
      ]
     },
     "execution_count": 55,
     "metadata": {},
     "output_type": "execute_result"
    }
   ],
   "source": [
    "x[:5,5]"
   ]
  },
  {
   "cell_type": "code",
   "execution_count": 57,
   "metadata": {},
   "outputs": [],
   "source": [
    "one = np.ones((5,5))"
   ]
  },
  {
   "cell_type": "code",
   "execution_count": 58,
   "metadata": {},
   "outputs": [
    {
     "data": {
      "text/plain": [
       "array([[1., 1., 1., 1., 1.],\n",
       "       [1., 1., 1., 1., 1.],\n",
       "       [1., 1., 1., 1., 1.],\n",
       "       [1., 1., 1., 1., 1.],\n",
       "       [1., 1., 1., 1., 1.]])"
      ]
     },
     "execution_count": 58,
     "metadata": {},
     "output_type": "execute_result"
    }
   ],
   "source": [
    "one"
   ]
  },
  {
   "cell_type": "code",
   "execution_count": 63,
   "metadata": {},
   "outputs": [],
   "source": [
    "one[1:4,1:4]=0"
   ]
  },
  {
   "cell_type": "code",
   "execution_count": 64,
   "metadata": {},
   "outputs": [
    {
     "data": {
      "text/plain": [
       "array([[1., 1., 1., 1., 1.],\n",
       "       [1., 0., 0., 0., 1.],\n",
       "       [1., 0., 0., 0., 1.],\n",
       "       [1., 0., 0., 0., 1.],\n",
       "       [1., 1., 1., 1., 1.]])"
      ]
     },
     "execution_count": 64,
     "metadata": {},
     "output_type": "execute_result"
    }
   ],
   "source": [
    "one"
   ]
  },
  {
   "cell_type": "code",
   "execution_count": 65,
   "metadata": {},
   "outputs": [
    {
     "data": {
      "text/plain": [
       "array([1., 1., 1., 1., 1.])"
      ]
     },
     "execution_count": 65,
     "metadata": {},
     "output_type": "execute_result"
    }
   ],
   "source": [
    "one[-1]"
   ]
  },
  {
   "cell_type": "code",
   "execution_count": 66,
   "metadata": {},
   "outputs": [],
   "source": [
    "z = np.empty((2,2))"
   ]
  },
  {
   "cell_type": "code",
   "execution_count": 67,
   "metadata": {},
   "outputs": [
    {
     "data": {
      "text/plain": [
       "array([[0.35575834, 1.93890483],\n",
       "       [0.02272884, 0.23779281]])"
      ]
     },
     "execution_count": 67,
     "metadata": {},
     "output_type": "execute_result"
    }
   ],
   "source": [
    "z"
   ]
  },
  {
   "cell_type": "code",
   "execution_count": 71,
   "metadata": {},
   "outputs": [
    {
     "data": {
      "text/plain": [
       "array([[0.35575834, 1.93890483]])"
      ]
     },
     "execution_count": 71,
     "metadata": {},
     "output_type": "execute_result"
    }
   ],
   "source": [
    "z[0:-1]"
   ]
  },
  {
   "cell_type": "code",
   "execution_count": 73,
   "metadata": {},
   "outputs": [],
   "source": [
    "ma = np.sqrt(z)"
   ]
  },
  {
   "cell_type": "code",
   "execution_count": 74,
   "metadata": {},
   "outputs": [
    {
     "data": {
      "text/plain": [
       "array([[0.59645481, 1.39244563],\n",
       "       [0.15076088, 0.48764004]])"
      ]
     },
     "execution_count": 74,
     "metadata": {},
     "output_type": "execute_result"
    }
   ],
   "source": [
    "ma"
   ]
  },
  {
   "cell_type": "code",
   "execution_count": 76,
   "metadata": {},
   "outputs": [],
   "source": [
    "m = np.max(z)"
   ]
  },
  {
   "cell_type": "code",
   "execution_count": 77,
   "metadata": {},
   "outputs": [
    {
     "data": {
      "text/plain": [
       "1.9389048304950258"
      ]
     },
     "execution_count": 77,
     "metadata": {},
     "output_type": "execute_result"
    }
   ],
   "source": [
    "m"
   ]
  },
  {
   "cell_type": "code",
   "execution_count": 78,
   "metadata": {},
   "outputs": [],
   "source": [
    "sqr = np.sqrt(z)"
   ]
  },
  {
   "cell_type": "code",
   "execution_count": 79,
   "metadata": {},
   "outputs": [
    {
     "data": {
      "text/plain": [
       "array([[0.59645481, 1.39244563],\n",
       "       [0.15076088, 0.48764004]])"
      ]
     },
     "execution_count": 79,
     "metadata": {},
     "output_type": "execute_result"
    }
   ],
   "source": [
    "sqr"
   ]
  },
  {
   "cell_type": "code",
   "execution_count": 80,
   "metadata": {},
   "outputs": [],
   "source": [
    "f = np.array([1,5,9,3,6,8])"
   ]
  },
  {
   "cell_type": "code",
   "execution_count": 81,
   "metadata": {},
   "outputs": [],
   "source": [
    "g = np.array([2,3,10,1,8,4])"
   ]
  },
  {
   "cell_type": "code",
   "execution_count": 82,
   "metadata": {},
   "outputs": [],
   "source": [
    "maxarra = np.maximum(f,g)"
   ]
  },
  {
   "cell_type": "code",
   "execution_count": 83,
   "metadata": {},
   "outputs": [
    {
     "data": {
      "text/plain": [
       "array([ 2,  5, 10,  3,  8,  8])"
      ]
     },
     "execution_count": 83,
     "metadata": {},
     "output_type": "execute_result"
    }
   ],
   "source": [
    "maxarra"
   ]
  },
  {
   "cell_type": "markdown",
   "metadata": {},
   "source": [
    "## np.where"
   ]
  },
  {
   "cell_type": "code",
   "execution_count": 89,
   "metadata": {},
   "outputs": [],
   "source": [
    "modifiyarray = np.where(g<5,len(g),f)"
   ]
  },
  {
   "cell_type": "code",
   "execution_count": 90,
   "metadata": {},
   "outputs": [
    {
     "data": {
      "text/plain": [
       "array([6, 6, 9, 6, 6, 6])"
      ]
     },
     "execution_count": 90,
     "metadata": {},
     "output_type": "execute_result"
    }
   ],
   "source": [
    "modifiyarray"
   ]
  },
  {
   "cell_type": "code",
   "execution_count": null,
   "metadata": {},
   "outputs": [],
   "source": []
  }
 ],
 "metadata": {
  "kernelspec": {
   "display_name": "Python 3",
   "language": "python",
   "name": "python3"
  },
  "language_info": {
   "codemirror_mode": {
    "name": "ipython",
    "version": 3
   },
   "file_extension": ".py",
   "mimetype": "text/x-python",
   "name": "python",
   "nbconvert_exporter": "python",
   "pygments_lexer": "ipython3",
   "version": "3.7.4"
  }
 },
 "nbformat": 4,
 "nbformat_minor": 2
}
