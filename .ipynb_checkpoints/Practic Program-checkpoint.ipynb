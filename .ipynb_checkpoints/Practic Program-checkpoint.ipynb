{
 "cells": [
  {
   "cell_type": "markdown",
   "metadata": {},
   "source": [
    "# To run THe code Please remove '''  ''' from every block of code which is at the start and end of the code"
   ]
  },
  {
   "cell_type": "code",
   "execution_count": 1,
   "metadata": {},
   "outputs": [
    {
     "name": "stdout",
     "output_type": "stream",
     "text": [
      "0\n"
     ]
    }
   ],
   "source": [
    "a= 0;\n",
    "print(a)"
   ]
  },
  {
   "cell_type": "code",
   "execution_count": 2,
   "metadata": {},
   "outputs": [
    {
     "name": "stdout",
     "output_type": "stream",
     "text": [
      "13\n"
     ]
    }
   ],
   "source": [
    "a=6\n",
    "b=7\n",
    "print(a+b)"
   ]
  },
  {
   "cell_type": "code",
   "execution_count": 3,
   "metadata": {},
   "outputs": [
    {
     "name": "stdout",
     "output_type": "stream",
     "text": [
      "Hello World\n"
     ]
    }
   ],
   "source": [
    "print(\"Hello World\")"
   ]
  },
  {
   "cell_type": "markdown",
   "metadata": {},
   "source": [
    "## Python Program to calculate the average of given marks:"
   ]
  },
  {
   "cell_type": "code",
   "execution_count": 4,
   "metadata": {},
   "outputs": [
    {
     "ename": "SyntaxError",
     "evalue": "invalid syntax (<ipython-input-4-ba97e49c0445>, line 17)",
     "output_type": "error",
     "traceback": [
      "\u001b[1;36m  File \u001b[1;32m\"<ipython-input-4-ba97e49c0445>\"\u001b[1;36m, line \u001b[1;32m17\u001b[0m\n\u001b[1;33m    Total is:    {}\u001b[0m\n\u001b[1;37m            ^\u001b[0m\n\u001b[1;31mSyntaxError\u001b[0m\u001b[1;31m:\u001b[0m invalid syntax\n"
     ]
    }
   ],
   "source": [
    "'''\n",
    "english = int(input(\"Enter English Marks:\"))\n",
    "Urdu    = int(input(\"Enter Urdu Marks:\"))\n",
    "Chemistry = int(input(\"Enter chemistry Marks:\"))\n",
    "Biology = int(input(\"Enter Biology Marks:\"))\n",
    "Pak_study = int(input(\"Enter Pak study Marks:\"))\n",
    "Physics = int(input(\"Enter Physics Marks:\"))\n",
    "Total = english + Urdu + Chemistry + Biology + Pak_study + Physics\n",
    "Average = Total / 6 \n",
    "result='''\n",
    "English :  {}\n",
    "Urdu : {}\n",
    "Chemistry : {}\n",
    "Biology : {}\n",
    "Pak-Studies : {}\n",
    "Physics : {}\n",
    "Total is:    {}\n",
    "Average :  {}\n",
    "\n",
    "'''.format(english,Urdu,Chemistry,Biology,Pak_study,Physics, Total,Average)\n",
    "'''"
   ]
  },
  {
   "cell_type": "code",
   "execution_count": null,
   "metadata": {},
   "outputs": [],
   "source": [
    "'''\n",
    "print(result)\n",
    "'''"
   ]
  },
  {
   "cell_type": "code",
   "execution_count": null,
   "metadata": {},
   "outputs": [],
   "source": [
    "'''\n",
    "n = int(input(\"Enter the Number of subjects\"))\n",
    "if(n>6):\n",
    "    print(\"subjects must be less then 6\")\n",
    "    n = int(input(\"Enter the Number of subjects\"))    \n",
    "list = []\n",
    "for items in range (0,n):\n",
    "    sub = int(input(\"Enter Marks : \"))\n",
    "    list.append(sub)\n",
    "    result=sum(list)/n\n",
    "print(round(result,3))\n",
    "'''"
   ]
  },
  {
   "cell_type": "markdown",
   "metadata": {},
   "source": [
    "## Python Program to swap numbers without using a temporay variable"
   ]
  },
  {
   "cell_type": "code",
   "execution_count": null,
   "metadata": {},
   "outputs": [],
   "source": [
    "'''\n",
    "a = int(input(\"First Value: \"))\n",
    "b = int(input(\"Second Value: \"))\n",
    "a = a+b\n",
    "b = a-b\n",
    "a = a-b\n",
    "print(\"First : \",a,\"Second : \",b)\n",
    "'''"
   ]
  },
  {
   "cell_type": "markdown",
   "metadata": {},
   "source": [
    "## Python Program to reverse a number:"
   ]
  },
  {
   "cell_type": "code",
   "execution_count": null,
   "metadata": {},
   "outputs": [],
   "source": [
    "'''\n",
    "n  =  int(input(\"Value: \"))\n",
    "rev = 0\n",
    "while(n>0):\n",
    "    dig = n%10\n",
    "    rev = rev*10+dig\n",
    "    n=n//10\n",
    "print(rev)\n",
    "'''"
   ]
  },
  {
   "cell_type": "markdown",
   "metadata": {},
   "source": [
    "## Python Program to print odd and even numbers within given range:"
   ]
  },
  {
   "cell_type": "code",
   "execution_count": null,
   "metadata": {},
   "outputs": [],
   "source": [
    "'''\n",
    "first = int(input(\"First: \"))\n",
    "last = int(input(\"Last: \"))\n",
    "list_even = []\n",
    "list_odd = []\n",
    "for i in range (first, last):\n",
    "    if(i%2 == 0):\n",
    "        list_even.append(i)\n",
    "    else : \n",
    "        list_odd.append(i)\n",
    "print(\"Even List\" ,list_even)\n",
    "print(\"Odd List\", list_odd)\n",
    "'''"
   ]
  },
  {
   "cell_type": "markdown",
   "metadata": {},
   "source": [
    "## Pyhton Program to print all the numbers in a Range Divided by a given number"
   ]
  },
  {
   "cell_type": "code",
   "execution_count": null,
   "metadata": {},
   "outputs": [],
   "source": [
    "'''\n",
    "first = int(input(\"First: \"))\n",
    "last = int(input(\"Last: \"))\n",
    "numb = int(input(\"Number Divisible by: \"))\n",
    "\n",
    "for i in range (first, last):\n",
    "    if(i%numb == 0):\n",
    "             print(i)\n",
    "'''"
   ]
  },
  {
   "cell_type": "markdown",
   "metadata": {},
   "source": [
    "## Python Program to find the least divisor of an integer."
   ]
  },
  {
   "cell_type": "code",
   "execution_count": null,
   "metadata": {},
   "outputs": [],
   "source": [
    "'''\n",
    "value = int(input(\"Value is : \"))\n",
    "small = value\n",
    "for i in range (2,value):\n",
    "    if(value%i==0):\n",
    "        if(i<small):\n",
    "            small = i\n",
    "print(small)\n",
    "'''"
   ]
  },
  {
   "cell_type": "code",
   "execution_count": 5,
   "metadata": {},
   "outputs": [
    {
     "name": "stdout",
     "output_type": "stream",
     "text": [
      "[0, 1, 2, 3, 4, 5, 6, 7, 8]\n"
     ]
    }
   ],
   "source": [
    "l = [4,6,2,3,8,1,0,7,5]\n",
    "l.sort()\n",
    "print(l)"
   ]
  },
  {
   "cell_type": "markdown",
   "metadata": {},
   "source": [
    "## program to find the number of digits in a number."
   ]
  },
  {
   "cell_type": "code",
   "execution_count": 8,
   "metadata": {},
   "outputs": [
    {
     "name": "stdout",
     "output_type": "stream",
     "text": [
      "Enter a number: 12547\n",
      "The number of digits in this number are 5 \n"
     ]
    }
   ],
   "source": [
    "n = int(input(\"Enter a number: \"))\n",
    "count = 0\n",
    "while(n>0):\n",
    "    count += 1\n",
    "    n = n//10\n",
    "print(f\"The number of digits in this number are {count} \")"
   ]
  },
  {
   "cell_type": "markdown",
   "metadata": {},
   "source": [
    "## python program to input a number and print the series:"
   ]
  },
  {
   "cell_type": "code",
   "execution_count": 24,
   "metadata": {},
   "outputs": [
    {
     "name": "stdout",
     "output_type": "stream",
     "text": [
      "Enter a number : 9\n",
      "1  +  2  +  3  +  4  +  5  +  6  +  7  +  8  +  9  =  45\n"
     ]
    }
   ],
   "source": [
    "n = int(input(\"Enter a number : \"))\n",
    "a = []\n",
    "for i in range (1,n+1):\n",
    "    print(i , end = \" \")\n",
    "    a.append(i)\n",
    "    if i<n:\n",
    "        print(\" + \" , end = \" \")\n",
    "    \n",
    "print(\" = \", sum(a))\n"
   ]
  },
  {
   "cell_type": "code",
   "execution_count": 38,
   "metadata": {},
   "outputs": [
    {
     "name": "stdout",
     "output_type": "stream",
     "text": [
      "Enter a number : 5\n",
      "1 = 1\n",
      "1  +  2 = 3\n",
      "1  +  2  +  3 = 6\n",
      "1  +  2  +  3  +  4 = 10\n",
      "1  +  2  +  3  +  4  +  5 = 15\n"
     ]
    }
   ],
   "source": [
    "n = int(input(\"Enter a number : \"))\n",
    "a = []\n",
    "for i in range (1,n+1):\n",
    "    for j in range (1, i+1):\n",
    "        print(j, end = \" \")\n",
    "        if i>j:\n",
    "            print(\" + \", end = \" \")\n",
    "    a.append(i)\n",
    "    print(\"=\", sum(a))\n"
   ]
  },
  {
   "cell_type": "code",
   "execution_count": null,
   "metadata": {},
   "outputs": [],
   "source": []
  }
 ],
 "metadata": {
  "kernelspec": {
   "display_name": "Python 3",
   "language": "python",
   "name": "python3"
  },
  "language_info": {
   "codemirror_mode": {
    "name": "ipython",
    "version": 3
   },
   "file_extension": ".py",
   "mimetype": "text/x-python",
   "name": "python",
   "nbconvert_exporter": "python",
   "pygments_lexer": "ipython3",
   "version": "3.7.4"
  }
 },
 "nbformat": 4,
 "nbformat_minor": 2
}
