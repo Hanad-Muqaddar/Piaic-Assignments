{
 "cells": [
  {
   "cell_type": "markdown",
   "metadata": {},
   "source": [
    "# To run THe code Please remove '''  ''' from every block of code which is at the start and end of the code"
   ]
  },
  {
   "cell_type": "code",
   "execution_count": 1,
   "metadata": {},
   "outputs": [
    {
     "name": "stdout",
     "output_type": "stream",
     "text": [
      "0\n"
     ]
    }
   ],
   "source": [
    "a= 0;\n",
    "print(a)"
   ]
  },
  {
   "cell_type": "code",
   "execution_count": 2,
   "metadata": {},
   "outputs": [
    {
     "name": "stdout",
     "output_type": "stream",
     "text": [
      "13\n"
     ]
    }
   ],
   "source": [
    "a=6\n",
    "b=7\n",
    "print(a+b)"
   ]
  },
  {
   "cell_type": "code",
   "execution_count": 23,
   "metadata": {},
   "outputs": [
    {
     "name": "stdout",
     "output_type": "stream",
     "text": [
      "Hello World\n"
     ]
    }
   ],
   "source": [
    "print(\"Hello World\")"
   ]
  },
  {
   "cell_type": "markdown",
   "metadata": {},
   "source": [
    "## Python Program to calculate the average of given marks:"
   ]
  },
  {
   "cell_type": "code",
   "execution_count": 4,
   "metadata": {},
   "outputs": [
    {
     "ename": "SyntaxError",
     "evalue": "invalid syntax (<ipython-input-4-ba97e49c0445>, line 17)",
     "output_type": "error",
     "traceback": [
      "\u001b[1;36m  File \u001b[1;32m\"<ipython-input-4-ba97e49c0445>\"\u001b[1;36m, line \u001b[1;32m17\u001b[0m\n\u001b[1;33m    Total is:    {}\u001b[0m\n\u001b[1;37m            ^\u001b[0m\n\u001b[1;31mSyntaxError\u001b[0m\u001b[1;31m:\u001b[0m invalid syntax\n"
     ]
    }
   ],
   "source": [
    "'''\n",
    "english = int(input(\"Enter English Marks:\"))\n",
    "Urdu    = int(input(\"Enter Urdu Marks:\"))\n",
    "Chemistry = int(input(\"Enter chemistry Marks:\"))\n",
    "Biology = int(input(\"Enter Biology Marks:\"))\n",
    "Pak_study = int(input(\"Enter Pak study Marks:\"))\n",
    "Physics = int(input(\"Enter Physics Marks:\"))\n",
    "Total = english + Urdu + Chemistry + Biology + Pak_study + Physics\n",
    "Average = Total / 6 \n",
    "result='''\n",
    "English :  {}\n",
    "Urdu : {}\n",
    "Chemistry : {}\n",
    "Biology : {}\n",
    "Pak-Studies : {}\n",
    "Physics : {}\n",
    "Total is:    {}\n",
    "Average :  {}\n",
    "\n",
    "'''.format(english,Urdu,Chemistry,Biology,Pak_study,Physics, Total,Average)\n",
    "'''"
   ]
  },
  {
   "cell_type": "code",
   "execution_count": null,
   "metadata": {},
   "outputs": [],
   "source": [
    "'''\n",
    "print(result)\n",
    "'''"
   ]
  },
  {
   "cell_type": "code",
   "execution_count": 5,
   "metadata": {},
   "outputs": [
    {
     "data": {
      "text/plain": [
       "'\\nn = int(input(\"Enter the Number of subjects\"))\\nif(n>6):\\n    print(\"subjects must be less then 6\")\\n    n = int(input(\"Enter the Number of subjects\"))    \\nlist = []\\nfor items in range (0,n):\\n    sub = int(input(\"Enter Marks : \"))\\n    list.append(sub)\\n    result=sum(list)/n\\nprint(round(result,3))\\n'"
      ]
     },
     "execution_count": 5,
     "metadata": {},
     "output_type": "execute_result"
    }
   ],
   "source": [
    "'''\n",
    "n = int(input(\"Enter the Number of subjects\"))\n",
    "if(n>6):\n",
    "    print(\"subjects must be less then 6\")\n",
    "    n = int(input(\"Enter the Number of subjects\"))    \n",
    "list = []\n",
    "for items in range (0,n):\n",
    "    sub = int(input(\"Enter Marks : \"))\n",
    "    list.append(sub)\n",
    "    result=sum(list)/n\n",
    "print(round(result,3))\n",
    "'''"
   ]
  },
  {
   "cell_type": "markdown",
   "metadata": {},
   "source": [
    "## Python Program to swap numbers without using a temporay variable"
   ]
  },
  {
   "cell_type": "code",
   "execution_count": 6,
   "metadata": {},
   "outputs": [
    {
     "data": {
      "text/plain": [
       "'\\na = int(input(\"First Value: \"))\\nb = int(input(\"Second Value: \"))\\na = a+b\\nb = a-b\\na = a-b\\nprint(\"First : \",a,\"Second : \",b)\\n'"
      ]
     },
     "execution_count": 6,
     "metadata": {},
     "output_type": "execute_result"
    }
   ],
   "source": [
    "'''\n",
    "a = int(input(\"First Value: \"))\n",
    "b = int(input(\"Second Value: \"))\n",
    "a = a+b\n",
    "b = a-b\n",
    "a = a-b\n",
    "print(\"First : \",a,\"Second : \",b)\n",
    "'''"
   ]
  },
  {
   "cell_type": "markdown",
   "metadata": {},
   "source": [
    "## Python Program to reverse a number:"
   ]
  },
  {
   "cell_type": "code",
   "execution_count": 7,
   "metadata": {},
   "outputs": [
    {
     "data": {
      "text/plain": [
       "'\\nn  =  int(input(\"Value: \"))\\nrev = 0\\nwhile(n>0):\\n    dig = n%10\\n    rev = rev*10+dig\\n    n=n//10\\nprint(rev)\\n'"
      ]
     },
     "execution_count": 7,
     "metadata": {},
     "output_type": "execute_result"
    }
   ],
   "source": [
    "'''\n",
    "n  =  int(input(\"Value: \"))\n",
    "rev = 0\n",
    "while(n>0):\n",
    "    dig = n%10\n",
    "    rev = rev*10+dig\n",
    "    n=n//10\n",
    "print(rev)\n",
    "'''"
   ]
  },
  {
   "cell_type": "markdown",
   "metadata": {},
   "source": [
    "## Python Program to print odd and even numbers within given range:"
   ]
  },
  {
   "cell_type": "code",
   "execution_count": 19,
   "metadata": {},
   "outputs": [
    {
     "name": "stdout",
     "output_type": "stream",
     "text": [
      "First: 2\n",
      "Last: 50\n",
      "Even List [2, 4, 6, 8, 10, 12, 14, 16, 18, 20, 22, 24, 26, 28, 30, 32, 34, 36, 38, 40, 42, 44, 46, 48]\n",
      "Odd List [3, 5, 7, 9, 11, 13, 15, 17, 19, 21, 23, 25, 27, 29, 31, 33, 35, 37, 39, 41, 43, 45, 47, 49]\n"
     ]
    }
   ],
   "source": [
    "'''\n",
    "first = int(input(\"First: \"))\n",
    "last = int(input(\"Last: \"))\n",
    "list_even = []\n",
    "list_odd = []\n",
    "for i in range (first, last):\n",
    "    if(i%2 == 0):\n",
    "        list_even.append(i)\n",
    "    else : \n",
    "        list_odd.append(i)\n",
    "print(\"Even List\" ,list_even)\n",
    "print(\"Odd List\", list_odd)\n",
    "'''"
   ]
  },
  {
   "cell_type": "markdown",
   "metadata": {},
   "source": [
    "## Pyhton Program to print all the numbers in a Range Divided by a given number"
   ]
  },
  {
   "cell_type": "code",
   "execution_count": 22,
   "metadata": {},
   "outputs": [
    {
     "name": "stdout",
     "output_type": "stream",
     "text": [
      "First: 1\n",
      "Last: 70\n",
      "Number Divisible by: 7\n",
      "7\n",
      "14\n",
      "21\n",
      "28\n",
      "35\n",
      "42\n",
      "49\n",
      "56\n",
      "63\n"
     ]
    }
   ],
   "source": [
    "'''\n",
    "first = int(input(\"First: \"))\n",
    "last = int(input(\"Last: \"))\n",
    "numb = int(input(\"Number Divisible by: \"))\n",
    "\n",
    "for i in range (first, last):\n",
    "    if(i%numb == 0):\n",
    "             print(i)\n",
    "'''"
   ]
  },
  {
   "cell_type": "markdown",
   "metadata": {},
   "source": [
    "## Python Program to find the least divisor of an integer."
   ]
  },
  {
   "cell_type": "code",
   "execution_count": 27,
   "metadata": {},
   "outputs": [
    {
     "name": "stdout",
     "output_type": "stream",
     "text": [
      "Value is : 64\n",
      "2\n"
     ]
    }
   ],
   "source": [
    "'''\n",
    "value = int(input(\"Value is : \"))\n",
    "small = value\n",
    "for i in range (2,value):\n",
    "    if(value%i==0):\n",
    "        if(i<small):\n",
    "            small = i\n",
    "print(small)\n",
    "'''"
   ]
  },
  {
   "cell_type": "code",
   "execution_count": 31,
   "metadata": {},
   "outputs": [
    {
     "name": "stdout",
     "output_type": "stream",
     "text": [
      "[0, 1, 2, 3, 4, 5, 6, 7, 8]\n"
     ]
    }
   ],
   "source": [
    "l = [4,6,2,3,8,1,0,7,5]\n",
    "l.sort()\n",
    "print(l)"
   ]
  },
  {
   "cell_type": "code",
   "execution_count": null,
   "metadata": {},
   "outputs": [],
   "source": []
  }
 ],
 "metadata": {
  "kernelspec": {
   "display_name": "Python 3",
   "language": "python",
   "name": "python3"
  },
  "language_info": {
   "codemirror_mode": {
    "name": "ipython",
    "version": 3
   },
   "file_extension": ".py",
   "mimetype": "text/x-python",
   "name": "python",
   "nbconvert_exporter": "python",
   "pygments_lexer": "ipython3",
   "version": "3.7.4"
  }
 },
 "nbformat": 4,
 "nbformat_minor": 2
}
