{
 "cells": [
  {
   "cell_type": "code",
   "execution_count": 42,
   "metadata": {},
   "outputs": [],
   "source": [
    "class Student:\n",
    "    \n",
    "    counter = 0\n",
    "    def __init__(self, sid):\n",
    "        self.sid = sid\n",
    "        Student.counter += 1\n",
    "        \n",
    "        \n",
    "    def getuser(self):\n",
    "        return self._user\n",
    "    def setuser(self, user):\n",
    "        self._user = user\n",
    "    def getpassw(self):\n",
    "        return self._password\n",
    "    def setpassw(self, password):\n",
    "        self._password = password\n",
    "\n",
    "    def login(self):\n",
    "        \n",
    "        print(\"Welcome to Login\")\n",
    "        print(self.getuser())\n",
    "        print(self.getpassw())\n",
    "    \n",
    "    def logout(self):\n",
    "        pass\n",
    "    \n",
    "    def quiz_attempt(self):\n",
    "        pass\n",
    "    \n",
    "    def attendence_mark(self):\n",
    "        pass\n",
    "    \n",
    "\n",
    "s1 = Student(1)\n",
    "    "
   ]
  },
  {
   "cell_type": "code",
   "execution_count": 16,
   "metadata": {},
   "outputs": [
    {
     "data": {
      "text/plain": [
       "1"
      ]
     },
     "execution_count": 16,
     "metadata": {},
     "output_type": "execute_result"
    }
   ],
   "source": [
    "s1.name = \"Hanad\"\n",
    "s1.fee = \"430\"\n",
    "s1.course = \"AI\"\n",
    "s1.counter"
   ]
  },
  {
   "cell_type": "code",
   "execution_count": 14,
   "metadata": {},
   "outputs": [
    {
     "data": {
      "text/plain": [
       "'AI'"
      ]
     },
     "execution_count": 14,
     "metadata": {},
     "output_type": "execute_result"
    }
   ],
   "source": [
    "s1.course"
   ]
  },
  {
   "cell_type": "code",
   "execution_count": 22,
   "metadata": {},
   "outputs": [
    {
     "name": "stdout",
     "output_type": "stream",
     "text": [
      "Welcome to Login\n",
      "Hanad\n"
     ]
    }
   ],
   "source": [
    "s1.login(\"Hanad\", \"12345\")"
   ]
  },
  {
   "cell_type": "code",
   "execution_count": 43,
   "metadata": {},
   "outputs": [
    {
     "name": "stdout",
     "output_type": "stream",
     "text": [
      "Welcome to Login\n",
      "Hanad\n",
      "12345\n"
     ]
    }
   ],
   "source": [
    "s1.setuser(\"Hanad\")\n",
    "s1.setpassw(\"12345\")\n",
    "s1.login()"
   ]
  },
  {
   "cell_type": "code",
   "execution_count": 48,
   "metadata": {},
   "outputs": [],
   "source": [
    "class Parent:\n",
    "    \n",
    "    counter = 0\n",
    "    def __init__(self, sid):\n",
    "        self.sid = sid\n",
    "        Student.counter += 1\n",
    "        \n",
    "        \n",
    "    def getuser(self):\n",
    "        return self._user\n",
    "    def setuser(self, user):\n",
    "        self._user = user\n",
    "    def getpassw(self):\n",
    "        return self._password\n",
    "    def setpassw(self, password):\n",
    "        self._password = password\n",
    "\n",
    "    def login(self):\n",
    "        \n",
    "        print(\"Welcome to Login\")\n",
    "        print(self.getuser())\n",
    "        print(self.getpassw())\n",
    "    \n",
    "    def logout(self):\n",
    "        pass\n",
    "    \n",
    "    def quiz_attempt(self):\n",
    "        pass\n",
    "    \n",
    "    def attendence_mark(self):\n",
    "        pass\n",
    "    \n",
    "\n",
    "class child(Parent):\n",
    "    def __init__(self):\n",
    "        pass\n",
    "    pass\n"
   ]
  },
  {
   "cell_type": "code",
   "execution_count": 53,
   "metadata": {},
   "outputs": [],
   "source": [
    "c1 = child()"
   ]
  },
  {
   "cell_type": "code",
   "execution_count": 54,
   "metadata": {},
   "outputs": [
    {
     "name": "stdout",
     "output_type": "stream",
     "text": [
      "Welcome to Login\n",
      "Hanad\n",
      "12345\n"
     ]
    }
   ],
   "source": [
    "c1.setuser(\"Hanad\")\n",
    "c1.setpassw(\"12345\")\n",
    "c1.login()"
   ]
  },
  {
   "cell_type": "markdown",
   "metadata": {},
   "source": [
    "# Polymoprphism"
   ]
  },
  {
   "cell_type": "code",
   "execution_count": 55,
   "metadata": {},
   "outputs": [],
   "source": [
    "class A:\n",
    "    def abc(self, a):\n",
    "        print(a)\n",
    "    def abc(self,a,b):\n",
    "        print(a, b)\n",
    "        \n",
    "    \n",
    "obj = A()"
   ]
  },
  {
   "cell_type": "code",
   "execution_count": 58,
   "metadata": {},
   "outputs": [
    {
     "name": "stdout",
     "output_type": "stream",
     "text": [
      "5 5\n"
     ]
    }
   ],
   "source": [
    "obj.abc(5,5)"
   ]
  },
  {
   "cell_type": "code",
   "execution_count": 62,
   "metadata": {},
   "outputs": [],
   "source": [
    "class B(A):\n",
    "    def abc(self, *n):\n",
    "        print(n)"
   ]
  },
  {
   "cell_type": "code",
   "execution_count": 63,
   "metadata": {},
   "outputs": [],
   "source": [
    "obj = B()"
   ]
  },
  {
   "cell_type": "code",
   "execution_count": 66,
   "metadata": {},
   "outputs": [
    {
     "name": "stdout",
     "output_type": "stream",
     "text": [
      "(5, 58, 9)\n",
      "(9,)\n",
      "(98, 36, 78, 56, 98)\n"
     ]
    }
   ],
   "source": [
    "obj.abc(5,58,9)\n",
    "obj.abc(9)\n",
    "obj.abc(98,36,78,56,98)"
   ]
  },
  {
   "cell_type": "markdown",
   "metadata": {},
   "source": [
    "# OverRiding "
   ]
  },
  {
   "cell_type": "code",
   "execution_count": null,
   "metadata": {},
   "outputs": [],
   "source": []
  }
 ],
 "metadata": {
  "kernelspec": {
   "display_name": "Python 3",
   "language": "python",
   "name": "python3"
  },
  "language_info": {
   "codemirror_mode": {
    "name": "ipython",
    "version": 3
   },
   "file_extension": ".py",
   "mimetype": "text/x-python",
   "name": "python",
   "nbconvert_exporter": "python",
   "pygments_lexer": "ipython3",
   "version": "3.7.4"
  }
 },
 "nbformat": 4,
 "nbformat_minor": 2
}
