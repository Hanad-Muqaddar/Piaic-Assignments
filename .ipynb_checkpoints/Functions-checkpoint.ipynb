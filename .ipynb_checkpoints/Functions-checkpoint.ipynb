{
 "cells": [
  {
   "cell_type": "code",
   "execution_count": 1,
   "metadata": {},
   "outputs": [
    {
     "name": "stdout",
     "output_type": "stream",
     "text": [
      "abc\n",
      "7\n"
     ]
    }
   ],
   "source": [
    "print(\"abc\")\n",
    "print(len(\"abcjkil\"))"
   ]
  },
  {
   "cell_type": "markdown",
   "metadata": {},
   "source": [
    "# User-Defined Function "
   ]
  },
  {
   "cell_type": "code",
   "execution_count": 2,
   "metadata": {},
   "outputs": [
    {
     "name": "stdout",
     "output_type": "stream",
     "text": [
      "Pakistan Zindabad\n",
      "We love Pakistan \n"
     ]
    }
   ],
   "source": [
    "print(\"Pakistan Zindabad\")\n",
    "print(\"We love Pakistan \")"
   ]
  },
  {
   "cell_type": "code",
   "execution_count": 3,
   "metadata": {},
   "outputs": [],
   "source": [
    "def abc():\n",
    "    print(\"Pakistan Zindabad\")\n",
    "    print(\"We love Pakistan \")\n",
    "    a=0\n",
    "    a+=1\n",
    "    if(a == 10):\n",
    "        pass\n",
    "    abc()"
   ]
  },
  {
   "cell_type": "markdown",
   "metadata": {},
   "source": [
    "# Required Arguments"
   ]
  },
  {
   "cell_type": "code",
   "execution_count": 4,
   "metadata": {},
   "outputs": [],
   "source": [
    "def id_card(sid, sname, fname, course, timing):\n",
    "    text = \"\"\"\n",
    "    PIAIC ISlamabad\n",
    "    id: {}\n",
    "    Name: {}\n",
    "    Father Name: {}\n",
    "    Course: {}\n",
    "    Timing: {}\n",
    "    \"\"\".format(sid, sname, fname, course, timing)\n",
    "    print(text)"
   ]
  },
  {
   "cell_type": "code",
   "execution_count": 5,
   "metadata": {},
   "outputs": [
    {
     "name": "stdout",
     "output_type": "stream",
     "text": [
      "\n",
      "    PIAIC ISlamabad\n",
      "    id: 1\n",
      "    Name: Hanad\n",
      "    Father Name: Muqaddar\n",
      "    Course: AI\n",
      "    Timing: 9:00 Am\n",
      "    \n"
     ]
    }
   ],
   "source": [
    "id_card(1, \"Hanad\", \"Muqaddar\", \"AI\", \"9:00 Am\")"
   ]
  },
  {
   "cell_type": "code",
   "execution_count": 6,
   "metadata": {},
   "outputs": [
    {
     "name": "stdout",
     "output_type": "stream",
     "text": [
      "\n",
      "    PIAIC ISlamabad\n",
      "    id: 2\n",
      "    Name: Hamza\n",
      "    Father Name: Khalid\n",
      "    Course: AI\n",
      "    Timing: 9:00 Am\n",
      "    \n"
     ]
    }
   ],
   "source": [
    "id_card(2, \"Hamza\", \"Khalid\", \"AI\", \"9:00 Am\")"
   ]
  },
  {
   "cell_type": "code",
   "execution_count": 7,
   "metadata": {},
   "outputs": [],
   "source": [
    "data = [[1, \"Hanad\", \"Muqaddar\", \"AI\", \"9:00 Am\"],\n",
    "        [2, \"Hamza\", \"Khalid\", \"AI\", \"9:00 Am\"],\n",
    "        [3, \"Hamza\", \"Khalid\", \"AI\", \"9:00 Am\"],\n",
    "        [4, \"Hanad\", \"Muqaddar\", \"AI\", \"9:00 Am\"]\n",
    "       ]"
   ]
  },
  {
   "cell_type": "code",
   "execution_count": 8,
   "metadata": {},
   "outputs": [
    {
     "name": "stdout",
     "output_type": "stream",
     "text": [
      "[1, 'Hanad', 'Muqaddar', 'AI', '9:00 Am']\n",
      "[2, 'Hamza', 'Khalid', 'AI', '9:00 Am']\n",
      "[3, 'Hamza', 'Khalid', 'AI', '9:00 Am']\n",
      "[4, 'Hanad', 'Muqaddar', 'AI', '9:00 Am']\n"
     ]
    }
   ],
   "source": [
    "for i in data:\n",
    "    print(i)"
   ]
  },
  {
   "cell_type": "code",
   "execution_count": 9,
   "metadata": {},
   "outputs": [
    {
     "name": "stdout",
     "output_type": "stream",
     "text": [
      "\n",
      "    PIAIC ISlamabad\n",
      "    id: 1\n",
      "    Name: Hanad\n",
      "    Father Name: Muqaddar\n",
      "    Course: AI\n",
      "    Timing: 9:00 Am\n",
      "    \n",
      "\n",
      "    PIAIC ISlamabad\n",
      "    id: 2\n",
      "    Name: Hamza\n",
      "    Father Name: Khalid\n",
      "    Course: AI\n",
      "    Timing: 9:00 Am\n",
      "    \n",
      "\n",
      "    PIAIC ISlamabad\n",
      "    id: 3\n",
      "    Name: Hamza\n",
      "    Father Name: Khalid\n",
      "    Course: AI\n",
      "    Timing: 9:00 Am\n",
      "    \n",
      "\n",
      "    PIAIC ISlamabad\n",
      "    id: 4\n",
      "    Name: Hanad\n",
      "    Father Name: Muqaddar\n",
      "    Course: AI\n",
      "    Timing: 9:00 Am\n",
      "    \n"
     ]
    }
   ],
   "source": [
    "for i in data:\n",
    "    id_card(*i)"
   ]
  },
  {
   "cell_type": "code",
   "execution_count": 10,
   "metadata": {},
   "outputs": [],
   "source": [
    "data.append([1, \"Hanad\", \"Muqaddar\", \"AI\", \"9:00 Am\"])"
   ]
  },
  {
   "cell_type": "code",
   "execution_count": 11,
   "metadata": {},
   "outputs": [
    {
     "name": "stdout",
     "output_type": "stream",
     "text": [
      "\n",
      "    PIAIC ISlamabad\n",
      "    id: 1\n",
      "    Name: Hanad\n",
      "    Father Name: Muqaddar\n",
      "    Course: AI\n",
      "    Timing: 9:00 Am\n",
      "    \n",
      "\n",
      "    PIAIC ISlamabad\n",
      "    id: 2\n",
      "    Name: Hamza\n",
      "    Father Name: Khalid\n",
      "    Course: AI\n",
      "    Timing: 9:00 Am\n",
      "    \n",
      "\n",
      "    PIAIC ISlamabad\n",
      "    id: 3\n",
      "    Name: Hamza\n",
      "    Father Name: Khalid\n",
      "    Course: AI\n",
      "    Timing: 9:00 Am\n",
      "    \n",
      "\n",
      "    PIAIC ISlamabad\n",
      "    id: 4\n",
      "    Name: Hanad\n",
      "    Father Name: Muqaddar\n",
      "    Course: AI\n",
      "    Timing: 9:00 Am\n",
      "    \n",
      "\n",
      "    PIAIC ISlamabad\n",
      "    id: 1\n",
      "    Name: Hanad\n",
      "    Father Name: Muqaddar\n",
      "    Course: AI\n",
      "    Timing: 9:00 Am\n",
      "    \n"
     ]
    }
   ],
   "source": [
    "for i in data:\n",
    "    id_card(*i)"
   ]
  },
  {
   "cell_type": "markdown",
   "metadata": {},
   "source": [
    "# Optional Arguments"
   ]
  },
  {
   "cell_type": "code",
   "execution_count": 12,
   "metadata": {},
   "outputs": [],
   "source": [
    "def abc2(x,y=1,z=3):\n",
    "    print(x,y,z)\n",
    "    print(x + y + z)"
   ]
  },
  {
   "cell_type": "code",
   "execution_count": 13,
   "metadata": {},
   "outputs": [
    {
     "name": "stdout",
     "output_type": "stream",
     "text": [
      "5 1 3\n",
      "9\n"
     ]
    }
   ],
   "source": [
    "abc2(5)"
   ]
  },
  {
   "cell_type": "markdown",
   "metadata": {},
   "source": [
    "# Non Return Functions"
   ]
  },
  {
   "cell_type": "code",
   "execution_count": 14,
   "metadata": {},
   "outputs": [
    {
     "name": "stdout",
     "output_type": "stream",
     "text": [
      "Pakistan\n",
      "None\n"
     ]
    }
   ],
   "source": [
    "abc3 = print(\"Pakistan\")\n",
    "print(abc3)"
   ]
  },
  {
   "cell_type": "markdown",
   "metadata": {},
   "source": [
    "# Return Functions"
   ]
  },
  {
   "cell_type": "code",
   "execution_count": 15,
   "metadata": {},
   "outputs": [],
   "source": [
    "def id_card(sid, sname, fname, course, timing):\n",
    "    text = \"\"\"\n",
    "    PIAIC ISlamabad\n",
    "    id: {}\n",
    "    Name: {}\n",
    "    Father Name: {}\n",
    "    Course: {}\n",
    "    Timing: {}\n",
    "    \"\"\".format(sid, sname, fname, course, timing)\n",
    "    return text, \"Hanad\", \"Hamza\""
   ]
  },
  {
   "cell_type": "code",
   "execution_count": 16,
   "metadata": {},
   "outputs": [
    {
     "name": "stdout",
     "output_type": "stream",
     "text": [
      "\n",
      "    PIAIC ISlamabad\n",
      "    id: 1\n",
      "    Name: A\n",
      "    Father Name: B\n",
      "    Course: C\n",
      "    Timing: D\n",
      "    \n",
      "Hanad\n",
      "Hamza\n"
     ]
    }
   ],
   "source": [
    "for i in range(3):\n",
    "    print(id_card(1,\"A\", \"B\", \"C\",\"D\")[i])\n",
    "#     print(*id_card(1,\"A\", \"B\", \"C\",\"D\"))"
   ]
  },
  {
   "cell_type": "markdown",
   "metadata": {},
   "source": [
    "# Keyword Arguments  "
   ]
  },
  {
   "cell_type": "code",
   "execution_count": 17,
   "metadata": {},
   "outputs": [
    {
     "name": "stdout",
     "output_type": "stream",
     "text": [
      "\n",
      "    PIAIC ISlamabad\n",
      "    id: 1\n",
      "    Name: Hanad\n",
      "    Father Name: Muqaddar\n",
      "    Course: AI\n",
      "    Timing: 9AM\n",
      "     Hanad Hamza\n"
     ]
    }
   ],
   "source": [
    "print(*id_card(1, fname=\"Muqaddar\",sname=\"Hanad\", timing=\"9AM\", course=\"AI\"))"
   ]
  },
  {
   "cell_type": "markdown",
   "metadata": {},
   "source": [
    "# Argument With List"
   ]
  },
  {
   "cell_type": "code",
   "execution_count": 18,
   "metadata": {},
   "outputs": [],
   "source": [
    "def id_card(sid, sname, fname, course, timing):\n",
    "    text = \"\"\"\n",
    "    PIAIC ISlamabad\n",
    "    id: {}\n",
    "    Name: {}\n",
    "    Father Name: {}\n",
    "    Course: {}\n",
    "    Timing: {}\n",
    "    \"\"\".format(sid, sname, fname, course, timing)\n",
    "    return text\n",
    "l1 = [1, \"Ali\", \"Qasim\", \"AI\", \"9\"]"
   ]
  },
  {
   "cell_type": "code",
   "execution_count": 19,
   "metadata": {},
   "outputs": [
    {
     "name": "stdout",
     "output_type": "stream",
     "text": [
      "\n",
      "    PIAIC ISlamabad\n",
      "    id: 1\n",
      "    Name: Ali\n",
      "    Father Name: Qasim\n",
      "    Course: AI\n",
      "    Timing: 9\n",
      "    \n"
     ]
    }
   ],
   "source": [
    "print(id_card(*l1))"
   ]
  },
  {
   "cell_type": "markdown",
   "metadata": {},
   "source": [
    "# Recursive Function"
   ]
  },
  {
   "cell_type": "code",
   "execution_count": 24,
   "metadata": {},
   "outputs": [],
   "source": [
    "def factrioal(n):\n",
    "    if n == 1:\n",
    "        return 1\n",
    "    return n * factrioal(n-1)"
   ]
  },
  {
   "cell_type": "code",
   "execution_count": 25,
   "metadata": {},
   "outputs": [
    {
     "data": {
      "text/plain": [
       "720"
      ]
     },
     "execution_count": 25,
     "metadata": {},
     "output_type": "execute_result"
    }
   ],
   "source": [
    "factrioal(6)"
   ]
  },
  {
   "cell_type": "markdown",
   "metadata": {},
   "source": [
    "# Genarator Function"
   ]
  },
  {
   "cell_type": "code",
   "execution_count": 32,
   "metadata": {},
   "outputs": [
    {
     "name": "stdout",
     "output_type": "stream",
     "text": [
      "<generator object gen at 0x000001127BDC7D48>\n",
      "0\n"
     ]
    }
   ],
   "source": [
    "def gen():\n",
    "    for i in range(10):\n",
    "        yield i\n",
    "a = gen()\n",
    "print(a)\n",
    "print(next(a))"
   ]
  },
  {
   "cell_type": "markdown",
   "metadata": {},
   "source": [
    "# Lamda Function"
   ]
  },
  {
   "cell_type": "code",
   "execution_count": 33,
   "metadata": {},
   "outputs": [],
   "source": [
    "xyz = lambda a,b: a + b"
   ]
  },
  {
   "cell_type": "code",
   "execution_count": 34,
   "metadata": {},
   "outputs": [
    {
     "data": {
      "text/plain": [
       "9"
      ]
     },
     "execution_count": 34,
     "metadata": {},
     "output_type": "execute_result"
    }
   ],
   "source": [
    "xyz(4,5)"
   ]
  },
  {
   "cell_type": "code",
   "execution_count": 36,
   "metadata": {},
   "outputs": [
    {
     "ename": "SyntaxError",
     "evalue": "invalid syntax (<ipython-input-36-3ee42a881d05>, line 1)",
     "output_type": "error",
     "traceback": [
      "\u001b[1;36m  File \u001b[1;32m\"<ipython-input-36-3ee42a881d05>\"\u001b[1;36m, line \u001b[1;32m1\u001b[0m\n\u001b[1;33m    xyz = lambda x,y :\u001b[0m\n\u001b[1;37m                       ^\u001b[0m\n\u001b[1;31mSyntaxError\u001b[0m\u001b[1;31m:\u001b[0m invalid syntax\n"
     ]
    }
   ],
   "source": [
    "xyz = lambda x,y : \n",
    "    if x > y:\n",
    "        print(x) \n",
    "    elif y > x : \n",
    "        print(y) \n",
    "    else: \n",
    "        print(\"Equal\") "
   ]
  },
  {
   "cell_type": "code",
   "execution_count": 40,
   "metadata": {},
   "outputs": [
    {
     "ename": "SyntaxError",
     "evalue": "invalid syntax (<ipython-input-40-1f2d44436400>, line 1)",
     "output_type": "error",
     "traceback": [
      "\u001b[1;36m  File \u001b[1;32m\"<ipython-input-40-1f2d44436400>\"\u001b[1;36m, line \u001b[1;32m1\u001b[0m\n\u001b[1;33m    xyz = lambda x,y : if(x > y): print(\"x\"): print(\"y\")\u001b[0m\n\u001b[1;37m                        ^\u001b[0m\n\u001b[1;31mSyntaxError\u001b[0m\u001b[1;31m:\u001b[0m invalid syntax\n"
     ]
    }
   ],
   "source": [
    "xyz = lambda x,y : if(x > y): print(\"x\"): print(\"y\") "
   ]
  },
  {
   "cell_type": "code",
   "execution_count": 41,
   "metadata": {},
   "outputs": [
    {
     "ename": "SyntaxError",
     "evalue": "invalid syntax (<ipython-input-41-23e6310a6906>, line 1)",
     "output_type": "error",
     "traceback": [
      "\u001b[1;36m  File \u001b[1;32m\"<ipython-input-41-23e6310a6906>\"\u001b[1;36m, line \u001b[1;32m1\u001b[0m\n\u001b[1;33m    xyz = lambda x,y: if x > y print(x) else print(y)\u001b[0m\n\u001b[1;37m                       ^\u001b[0m\n\u001b[1;31mSyntaxError\u001b[0m\u001b[1;31m:\u001b[0m invalid syntax\n"
     ]
    }
   ],
   "source": [
    "xyz = lambda x,y: if x > y print(x) else print(y)"
   ]
  },
  {
   "cell_type": "code",
   "execution_count": null,
   "metadata": {},
   "outputs": [],
   "source": []
  }
 ],
 "metadata": {
  "kernelspec": {
   "display_name": "Python 3",
   "language": "python",
   "name": "python3"
  },
  "language_info": {
   "codemirror_mode": {
    "name": "ipython",
    "version": 3
   },
   "file_extension": ".py",
   "mimetype": "text/x-python",
   "name": "python",
   "nbconvert_exporter": "python",
   "pygments_lexer": "ipython3",
   "version": "3.7.4"
  }
 },
 "nbformat": 4,
 "nbformat_minor": 2
}
