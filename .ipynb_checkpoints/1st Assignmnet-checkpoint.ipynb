{
 "cells": [
  {
   "cell_type": "code",
   "execution_count": 1,
   "metadata": {},
   "outputs": [
    {
     "ename": "SyntaxError",
     "evalue": "invalid syntax (<ipython-input-1-2afa63282052>, line 1)",
     "output_type": "error",
     "traceback": [
      "\u001b[1;36m  File \u001b[1;32m\"<ipython-input-1-2afa63282052>\"\u001b[1;36m, line \u001b[1;32m1\u001b[0m\n\u001b[1;33m    Srting name = \"Hanad Muqaddar\"\u001b[0m\n\u001b[1;37m              ^\u001b[0m\n\u001b[1;31mSyntaxError\u001b[0m\u001b[1;31m:\u001b[0m invalid syntax\n"
     ]
    }
   ],
   "source": [
    "Srting name = \"Hanad Muqaddar\"\n",
    "String Roll_Number = \"16-Arid-1172\"\n",
    "String class1 = \"Bs-IT\"\n",
    "Section = \"B (Eve)\"\n",
    "\n",
    "card = '''\n",
    "Name: {}\n",
    "Roll Number: {}\n",
    "Class : {}\n",
    "Section: {}\n",
    "\n",
    "'''.format(name, Roll_Number,class1,Section)\n",
    "print(card)"
   ]
  },
  {
   "cell_type": "code",
   "execution_count": null,
   "metadata": {},
   "outputs": [],
   "source": []
  }
 ],
 "metadata": {
  "kernelspec": {
   "display_name": "Python 3",
   "language": "python",
   "name": "python3"
  },
  "language_info": {
   "codemirror_mode": {
    "name": "ipython",
    "version": 3
   },
   "file_extension": ".py",
   "mimetype": "text/x-python",
   "name": "python",
   "nbconvert_exporter": "python",
   "pygments_lexer": "ipython3",
   "version": "3.7.4"
  }
 },
 "nbformat": 4,
 "nbformat_minor": 2
}
