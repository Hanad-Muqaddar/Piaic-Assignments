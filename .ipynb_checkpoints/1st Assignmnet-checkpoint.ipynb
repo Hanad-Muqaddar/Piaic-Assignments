{
 "cells": [
  {
   "cell_type": "code",
   "execution_count": 3,
   "metadata": {},
   "outputs": [],
   "source": [
    "name = \"Hanad Muqaddar\"\n",
    "Roll_Number = \"16-Arid-1172\"\n",
    "class1 = \"Bs-IT\"\n",
    "Section = \"B (Eve)\"\n",
    "\n",
    "card = '''\n",
    "Name: {}\n",
    "Roll Number: {}\n",
    "Class : {}\n",
    "Section: {}\n",
    "\n",
    "'''.format(name, Roll_Number,class1,Section)\n"
   ]
  },
  {
   "cell_type": "code",
   "execution_count": 4,
   "metadata": {},
   "outputs": [
    {
     "name": "stdout",
     "output_type": "stream",
     "text": [
      "\n",
      "Name: Hanad Muqaddar\n",
      "Roll Number: 16-Arid-1172\n",
      "Class : Bs-IT\n",
      "Section: B (Eve)\n",
      "\n",
      "\n"
     ]
    }
   ],
   "source": [
    "print(card)"
   ]
  },
  {
   "cell_type": "code",
   "execution_count": null,
   "metadata": {},
   "outputs": [],
   "source": []
  }
 ],
 "metadata": {
  "kernelspec": {
   "display_name": "Python 3",
   "language": "python",
   "name": "python3"
  }
 },
 "nbformat": 4,
 "nbformat_minor": 2
}
