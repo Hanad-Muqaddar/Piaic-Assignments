{
 "cells": [
  {
   "cell_type": "code",
   "execution_count": null,
   "metadata": {},
   "outputs": [],
   "source": [
    "import random\n",
    "lst = [\"Snake\", \"Water\", \"Gun\"]\n",
    "a = 0\n",
    "while a <= 1:\n",
    "    choice = random.choice(lst)\n",
    "    print(\"          ''''     Snake Water Game       ''''           \")\n",
    "    print(\"Please choose W for water G for gun and S for snake  \")\n",
    "    i = input(\"Enter your weapon you want to select:  \")\n",
    "    if i == \"water\" and choice == \"Water\":\n",
    "        print(\"You choose water and computer also select water\")\n",
    "    elif i == \"water\" and choice == \"snake\":\n",
    "        print(\"Snake is drinking water and you loose. Hehehe\")\n",
    "    elif i == \"water\" and choice == \"gun\":\n",
    "        print(\"Your input is water and the computer is gun. You win\")\n",
    "    a += 1"
   ]
  },
  {
   "cell_type": "code",
   "execution_count": 8,
   "metadata": {},
   "outputs": [
    {
     "name": "stdout",
     "output_type": "stream",
     "text": [
      "Equal\n"
     ]
    }
   ],
   "source": [
    "a = 5\n",
    "b = 5\n",
    "if a == b:\n",
    "    print(\"Equal\")\n",
    "else: \n",
    "    print(\"Not Equal\")"
   ]
  },
  {
   "cell_type": "code",
   "execution_count": null,
   "metadata": {},
   "outputs": [],
   "source": []
  }
 ],
 "metadata": {
  "kernelspec": {
   "display_name": "Python 3",
   "language": "python",
   "name": "python3"
  },
  "language_info": {
   "codemirror_mode": {
    "name": "ipython",
    "version": 3
   },
   "file_extension": ".py",
   "mimetype": "text/x-python",
   "name": "python",
   "nbconvert_exporter": "python",
   "pygments_lexer": "ipython3",
   "version": "3.7.4"
  }
 },
 "nbformat": 4,
 "nbformat_minor": 2
}
